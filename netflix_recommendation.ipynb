{
  "cells": [
    {
      "cell_type": "markdown",
      "metadata": {
        "id": "view-in-github",
        "colab_type": "text"
      },
      "source": [
        "<a href=\"https://colab.research.google.com/github/mishal-789/netflix-recommendation/blob/main/netflix_recommendation.ipynb\" target=\"_parent\"><img src=\"https://colab.research.google.com/assets/colab-badge.svg\" alt=\"Open In Colab\"/></a>"
      ]
    },
    {
      "cell_type": "code",
      "execution_count": null,
      "metadata": {
        "colab": {
          "base_uri": "https://localhost:8080/"
        },
        "id": "zBiE94O8KNjw",
        "outputId": "c9d361ef-7fec-423b-ef8a-ce58980ec82d"
      },
      "outputs": [
        {
          "output_type": "stream",
          "name": "stdout",
          "text": [
            "Requirement already satisfied: numpy in /usr/local/lib/python3.10/dist-packages (1.23.5)\n"
          ]
        }
      ],
      "source": [
        "!pip install numpy"
      ]
    },
    {
      "cell_type": "code",
      "execution_count": null,
      "metadata": {
        "colab": {
          "base_uri": "https://localhost:8080/"
        },
        "id": "JhL9ot9QKg9G",
        "outputId": "b0a856fc-22fa-4549-aa6b-b8fa172a51e4"
      },
      "outputs": [
        {
          "output_type": "stream",
          "name": "stdout",
          "text": [
            "Requirement already satisfied: pandas in /usr/local/lib/python3.10/dist-packages (1.5.3)\n",
            "Requirement already satisfied: python-dateutil>=2.8.1 in /usr/local/lib/python3.10/dist-packages (from pandas) (2.8.2)\n",
            "Requirement already satisfied: pytz>=2020.1 in /usr/local/lib/python3.10/dist-packages (from pandas) (2023.3.post1)\n",
            "Requirement already satisfied: numpy>=1.21.0 in /usr/local/lib/python3.10/dist-packages (from pandas) (1.23.5)\n",
            "Requirement already satisfied: six>=1.5 in /usr/local/lib/python3.10/dist-packages (from python-dateutil>=2.8.1->pandas) (1.16.0)\n"
          ]
        }
      ],
      "source": [
        "!pip install pandas"
      ]
    },
    {
      "cell_type": "code",
      "execution_count": null,
      "metadata": {
        "colab": {
          "base_uri": "https://localhost:8080/"
        },
        "id": "NJt2PZ-kKljW",
        "outputId": "73119a51-2405-4711-ce5f-3fdabb85d950"
      },
      "outputs": [
        {
          "output_type": "stream",
          "name": "stdout",
          "text": [
            "Collecting sklearn\n",
            "  Downloading sklearn-0.0.post12.tar.gz (2.6 kB)\n",
            "  \u001b[1;31merror\u001b[0m: \u001b[1msubprocess-exited-with-error\u001b[0m\n",
            "  \n",
            "  \u001b[31m×\u001b[0m \u001b[32mpython setup.py egg_info\u001b[0m did not run successfully.\n",
            "  \u001b[31m│\u001b[0m exit code: \u001b[1;36m1\u001b[0m\n",
            "  \u001b[31m╰─>\u001b[0m See above for output.\n",
            "  \n",
            "  \u001b[1;35mnote\u001b[0m: This error originates from a subprocess, and is likely not a problem with pip.\n",
            "  Preparing metadata (setup.py) ... \u001b[?25l\u001b[?25herror\n",
            "\u001b[1;31merror\u001b[0m: \u001b[1mmetadata-generation-failed\u001b[0m\n",
            "\n",
            "\u001b[31m×\u001b[0m Encountered error while generating package metadata.\n",
            "\u001b[31m╰─>\u001b[0m See above for output.\n",
            "\n",
            "\u001b[1;35mnote\u001b[0m: This is an issue with the package mentioned above, not pip.\n",
            "\u001b[1;36mhint\u001b[0m: See above for details.\n"
          ]
        }
      ],
      "source": [
        "!pip install sklearn"
      ]
    },
    {
      "cell_type": "code",
      "execution_count": null,
      "metadata": {
        "id": "yzsFBLXjILqi"
      },
      "outputs": [],
      "source": [
        "import numpy as n\n",
        "import pandas as pd\n",
        "from sklearn.feature_extraction import text  #used to extract features in a format\n",
        "from sklearn.metrics.pairwise import cosine_similarity # used to recommend !\n"
      ]
    },
    {
      "cell_type": "code",
      "execution_count": null,
      "metadata": {
        "colab": {
          "base_uri": "https://localhost:8080/"
        },
        "id": "H8xTVYmPO_Ri",
        "outputId": "d6435b36-d330-48d2-cf6f-2facb89d5657"
      },
      "outputs": [
        {
          "output_type": "execute_result",
          "data": {
            "text/plain": [
              "['.config', 'sample_data']"
            ]
          },
          "metadata": {},
          "execution_count": 8
        }
      ],
      "source": [
        "import os\n",
        "os.listdir()"
      ]
    },
    {
      "cell_type": "code",
      "execution_count": null,
      "metadata": {
        "id": "aSWL6cW1I7cl"
      },
      "outputs": [],
      "source": [
        "data = pd.read_csv('netflixData.csv')"
      ]
    },
    {
      "cell_type": "code",
      "execution_count": null,
      "metadata": {
        "id": "fsIEgd4jI-GR",
        "colab": {
          "base_uri": "https://localhost:8080/"
        },
        "outputId": "db7fbe87-a461-405e-8b7d-a403ac7d16a4"
      },
      "outputs": [
        {
          "output_type": "stream",
          "name": "stdout",
          "text": [
            "                                Show Id                          Title  \\\n",
            "0  cc1b6ed9-cf9e-4057-8303-34577fb54477                       (Un)Well   \n",
            "1  e2ef4e91-fb25-42ab-b485-be8e3b23dedb                         #Alive   \n",
            "2  b01b73b7-81f6-47a7-86d8-acb63080d525  #AnneFrank - Parallel Stories   \n",
            "3  b6611af0-f53c-4a08-9ffa-9716dc57eb9c                       #blackAF   \n",
            "4  7f2d4170-bab8-4d75-adc2-197f7124c070               #cats_the_mewvie   \n",
            "\n",
            "                                         Description  \\\n",
            "0  This docuseries takes a deep dive into the luc...   \n",
            "1  As a grisly virus rampages a city, a lone man ...   \n",
            "2  Through her diary, Anne Frank's story is retol...   \n",
            "3  Kenya Barris and his family navigate relations...   \n",
            "4  This pawesome documentary explores how our fel...   \n",
            "\n",
            "                      Director  \\\n",
            "0                          NaN   \n",
            "1                       Cho Il   \n",
            "2  Sabina Fedeli, Anna Migotto   \n",
            "3                          NaN   \n",
            "4             Michael Margolis   \n",
            "\n",
            "                                           Genres  \\\n",
            "0                                      Reality TV   \n",
            "1  Horror Movies, International Movies, Thrillers   \n",
            "2             Documentaries, International Movies   \n",
            "3                                     TV Comedies   \n",
            "4             Documentaries, International Movies   \n",
            "\n",
            "                                                Cast Production Country  \\\n",
            "0                                                NaN      United States   \n",
            "1                           Yoo Ah-in, Park Shin-hye        South Korea   \n",
            "2                        Helen Mirren, Gengher Gatti              Italy   \n",
            "3  Kenya Barris, Rashida Jones, Iman Benson, Genn...      United States   \n",
            "4                                                NaN             Canada   \n",
            "\n",
            "   Release Date Rating  Duration Imdb Score Content Type         Date Added  \n",
            "0        2020.0  TV-MA  1 Season     6.6/10      TV Show                NaN  \n",
            "1        2020.0  TV-MA    99 min     6.2/10        Movie  September 8, 2020  \n",
            "2        2019.0  TV-14    95 min     6.4/10        Movie       July 1, 2020  \n",
            "3        2020.0  TV-MA  1 Season     6.6/10      TV Show                NaN  \n",
            "4        2020.0  TV-14    90 min     5.1/10        Movie   February 5, 2020  \n"
          ]
        }
      ],
      "source": [
        "print(data.head())"
      ]
    },
    {
      "cell_type": "code",
      "source": [
        "print(data.isnull().sum()) #calculating null values"
      ],
      "metadata": {
        "colab": {
          "base_uri": "https://localhost:8080/"
        },
        "id": "P2P2dJTJfivN",
        "outputId": "625250aa-e47e-4354-ffff-263967bfa047"
      },
      "execution_count": null,
      "outputs": [
        {
          "output_type": "stream",
          "name": "stdout",
          "text": [
            "Show Id                  0\n",
            "Title                    0\n",
            "Description              0\n",
            "Director              2064\n",
            "Genres                   0\n",
            "Cast                   530\n",
            "Production Country     559\n",
            "Release Date             3\n",
            "Rating                   4\n",
            "Duration                 3\n",
            "Imdb Score             608\n",
            "Content Type             0\n",
            "Date Added            1335\n",
            "dtype: int64\n"
          ]
        }
      ]
    },
    {
      "cell_type": "code",
      "source": [
        "data = data[[\"Title\",\"Description\",\"Content Type\",\"Genres\"]] #reshaping matrics as i required\n",
        "print(data.head())"
      ],
      "metadata": {
        "colab": {
          "base_uri": "https://localhost:8080/"
        },
        "id": "glz3mhpHhF-r",
        "outputId": "ba4fe6c3-431e-454a-f5f9-77e0e5d93577"
      },
      "execution_count": null,
      "outputs": [
        {
          "output_type": "stream",
          "name": "stdout",
          "text": [
            "                           Title  \\\n",
            "0                       (Un)Well   \n",
            "1                         #Alive   \n",
            "2  #AnneFrank - Parallel Stories   \n",
            "3                       #blackAF   \n",
            "4               #cats_the_mewvie   \n",
            "\n",
            "                                         Description Content Type  \\\n",
            "0  This docuseries takes a deep dive into the luc...      TV Show   \n",
            "1  As a grisly virus rampages a city, a lone man ...        Movie   \n",
            "2  Through her diary, Anne Frank's story is retol...        Movie   \n",
            "3  Kenya Barris and his family navigate relations...      TV Show   \n",
            "4  This pawesome documentary explores how our fel...        Movie   \n",
            "\n",
            "                                           Genres  \n",
            "0                                      Reality TV  \n",
            "1  Horror Movies, International Movies, Thrillers  \n",
            "2             Documentaries, International Movies  \n",
            "3                                     TV Comedies  \n",
            "4             Documentaries, International Movies  \n"
          ]
        }
      ]
    },
    {
      "cell_type": "code",
      "source": [
        "data = data.dropna() # remove null rows"
      ],
      "metadata": {
        "id": "hp2z-1kqhs5F"
      },
      "execution_count": null,
      "outputs": []
    },
    {
      "cell_type": "code",
      "source": [
        "data\n"
      ],
      "metadata": {
        "colab": {
          "base_uri": "https://localhost:8080/",
          "height": 753
        },
        "id": "vTOZ46ImiVqE",
        "outputId": "a8b0ba33-4be1-40ce-8aeb-686c64c91a14"
      },
      "execution_count": null,
      "outputs": [
        {
          "output_type": "execute_result",
          "data": {
            "text/plain": [
              "                              Title  \\\n",
              "0                          (Un)Well   \n",
              "1                            #Alive   \n",
              "2     #AnneFrank - Parallel Stories   \n",
              "3                          #blackAF   \n",
              "4                  #cats_the_mewvie   \n",
              "...                             ...   \n",
              "5962                      الف مبروك   \n",
              "5963                   دفعة القاهرة   \n",
              "5964                           海的儿子   \n",
              "5965                        반드시 잡는다   \n",
              "5966            최강전사 미니특공대 : 영웅의 탄생   \n",
              "\n",
              "                                            Description Content Type  \\\n",
              "0     This docuseries takes a deep dive into the luc...      TV Show   \n",
              "1     As a grisly virus rampages a city, a lone man ...        Movie   \n",
              "2     Through her diary, Anne Frank's story is retol...        Movie   \n",
              "3     Kenya Barris and his family navigate relations...      TV Show   \n",
              "4     This pawesome documentary explores how our fel...        Movie   \n",
              "...                                                 ...          ...   \n",
              "5962  On his wedding day, an arrogant, greedy accoun...        Movie   \n",
              "5963  A group of women leaves Kuwait to attend unive...      TV Show   \n",
              "5964  Two brothers start a new life in Singapore, wh...      TV Show   \n",
              "5965  After people in his town start turning up dead...        Movie   \n",
              "5966  Miniforce, a special task force of elite range...        Movie   \n",
              "\n",
              "                                              Genres  \n",
              "0                                         Reality TV  \n",
              "1     Horror Movies, International Movies, Thrillers  \n",
              "2                Documentaries, International Movies  \n",
              "3                                        TV Comedies  \n",
              "4                Documentaries, International Movies  \n",
              "...                                              ...  \n",
              "5962          Comedies, Dramas, International Movies  \n",
              "5963               International TV Shows, TV Dramas  \n",
              "5964               International TV Shows, TV Dramas  \n",
              "5965         Dramas, International Movies, Thrillers  \n",
              "5966                        Children & Family Movies  \n",
              "\n",
              "[5967 rows x 4 columns]"
            ],
            "text/html": [
              "\n",
              "  <div id=\"df-e8142366-1168-45cf-ba6c-e6fad3727005\" class=\"colab-df-container\">\n",
              "    <div>\n",
              "<style scoped>\n",
              "    .dataframe tbody tr th:only-of-type {\n",
              "        vertical-align: middle;\n",
              "    }\n",
              "\n",
              "    .dataframe tbody tr th {\n",
              "        vertical-align: top;\n",
              "    }\n",
              "\n",
              "    .dataframe thead th {\n",
              "        text-align: right;\n",
              "    }\n",
              "</style>\n",
              "<table border=\"1\" class=\"dataframe\">\n",
              "  <thead>\n",
              "    <tr style=\"text-align: right;\">\n",
              "      <th></th>\n",
              "      <th>Title</th>\n",
              "      <th>Description</th>\n",
              "      <th>Content Type</th>\n",
              "      <th>Genres</th>\n",
              "    </tr>\n",
              "  </thead>\n",
              "  <tbody>\n",
              "    <tr>\n",
              "      <th>0</th>\n",
              "      <td>(Un)Well</td>\n",
              "      <td>This docuseries takes a deep dive into the luc...</td>\n",
              "      <td>TV Show</td>\n",
              "      <td>Reality TV</td>\n",
              "    </tr>\n",
              "    <tr>\n",
              "      <th>1</th>\n",
              "      <td>#Alive</td>\n",
              "      <td>As a grisly virus rampages a city, a lone man ...</td>\n",
              "      <td>Movie</td>\n",
              "      <td>Horror Movies, International Movies, Thrillers</td>\n",
              "    </tr>\n",
              "    <tr>\n",
              "      <th>2</th>\n",
              "      <td>#AnneFrank - Parallel Stories</td>\n",
              "      <td>Through her diary, Anne Frank's story is retol...</td>\n",
              "      <td>Movie</td>\n",
              "      <td>Documentaries, International Movies</td>\n",
              "    </tr>\n",
              "    <tr>\n",
              "      <th>3</th>\n",
              "      <td>#blackAF</td>\n",
              "      <td>Kenya Barris and his family navigate relations...</td>\n",
              "      <td>TV Show</td>\n",
              "      <td>TV Comedies</td>\n",
              "    </tr>\n",
              "    <tr>\n",
              "      <th>4</th>\n",
              "      <td>#cats_the_mewvie</td>\n",
              "      <td>This pawesome documentary explores how our fel...</td>\n",
              "      <td>Movie</td>\n",
              "      <td>Documentaries, International Movies</td>\n",
              "    </tr>\n",
              "    <tr>\n",
              "      <th>...</th>\n",
              "      <td>...</td>\n",
              "      <td>...</td>\n",
              "      <td>...</td>\n",
              "      <td>...</td>\n",
              "    </tr>\n",
              "    <tr>\n",
              "      <th>5962</th>\n",
              "      <td>الف مبروك</td>\n",
              "      <td>On his wedding day, an arrogant, greedy accoun...</td>\n",
              "      <td>Movie</td>\n",
              "      <td>Comedies, Dramas, International Movies</td>\n",
              "    </tr>\n",
              "    <tr>\n",
              "      <th>5963</th>\n",
              "      <td>دفعة القاهرة</td>\n",
              "      <td>A group of women leaves Kuwait to attend unive...</td>\n",
              "      <td>TV Show</td>\n",
              "      <td>International TV Shows, TV Dramas</td>\n",
              "    </tr>\n",
              "    <tr>\n",
              "      <th>5964</th>\n",
              "      <td>海的儿子</td>\n",
              "      <td>Two brothers start a new life in Singapore, wh...</td>\n",
              "      <td>TV Show</td>\n",
              "      <td>International TV Shows, TV Dramas</td>\n",
              "    </tr>\n",
              "    <tr>\n",
              "      <th>5965</th>\n",
              "      <td>반드시 잡는다</td>\n",
              "      <td>After people in his town start turning up dead...</td>\n",
              "      <td>Movie</td>\n",
              "      <td>Dramas, International Movies, Thrillers</td>\n",
              "    </tr>\n",
              "    <tr>\n",
              "      <th>5966</th>\n",
              "      <td>최강전사 미니특공대 : 영웅의 탄생</td>\n",
              "      <td>Miniforce, a special task force of elite range...</td>\n",
              "      <td>Movie</td>\n",
              "      <td>Children &amp; Family Movies</td>\n",
              "    </tr>\n",
              "  </tbody>\n",
              "</table>\n",
              "<p>5967 rows × 4 columns</p>\n",
              "</div>\n",
              "    <div class=\"colab-df-buttons\">\n",
              "\n",
              "  <div class=\"colab-df-container\">\n",
              "    <button class=\"colab-df-convert\" onclick=\"convertToInteractive('df-e8142366-1168-45cf-ba6c-e6fad3727005')\"\n",
              "            title=\"Convert this dataframe to an interactive table.\"\n",
              "            style=\"display:none;\">\n",
              "\n",
              "  <svg xmlns=\"http://www.w3.org/2000/svg\" height=\"24px\" viewBox=\"0 -960 960 960\">\n",
              "    <path d=\"M120-120v-720h720v720H120Zm60-500h600v-160H180v160Zm220 220h160v-160H400v160Zm0 220h160v-160H400v160ZM180-400h160v-160H180v160Zm440 0h160v-160H620v160ZM180-180h160v-160H180v160Zm440 0h160v-160H620v160Z\"/>\n",
              "  </svg>\n",
              "    </button>\n",
              "\n",
              "  <style>\n",
              "    .colab-df-container {\n",
              "      display:flex;\n",
              "      gap: 12px;\n",
              "    }\n",
              "\n",
              "    .colab-df-convert {\n",
              "      background-color: #E8F0FE;\n",
              "      border: none;\n",
              "      border-radius: 50%;\n",
              "      cursor: pointer;\n",
              "      display: none;\n",
              "      fill: #1967D2;\n",
              "      height: 32px;\n",
              "      padding: 0 0 0 0;\n",
              "      width: 32px;\n",
              "    }\n",
              "\n",
              "    .colab-df-convert:hover {\n",
              "      background-color: #E2EBFA;\n",
              "      box-shadow: 0px 1px 2px rgba(60, 64, 67, 0.3), 0px 1px 3px 1px rgba(60, 64, 67, 0.15);\n",
              "      fill: #174EA6;\n",
              "    }\n",
              "\n",
              "    .colab-df-buttons div {\n",
              "      margin-bottom: 4px;\n",
              "    }\n",
              "\n",
              "    [theme=dark] .colab-df-convert {\n",
              "      background-color: #3B4455;\n",
              "      fill: #D2E3FC;\n",
              "    }\n",
              "\n",
              "    [theme=dark] .colab-df-convert:hover {\n",
              "      background-color: #434B5C;\n",
              "      box-shadow: 0px 1px 3px 1px rgba(0, 0, 0, 0.15);\n",
              "      filter: drop-shadow(0px 1px 2px rgba(0, 0, 0, 0.3));\n",
              "      fill: #FFFFFF;\n",
              "    }\n",
              "  </style>\n",
              "\n",
              "    <script>\n",
              "      const buttonEl =\n",
              "        document.querySelector('#df-e8142366-1168-45cf-ba6c-e6fad3727005 button.colab-df-convert');\n",
              "      buttonEl.style.display =\n",
              "        google.colab.kernel.accessAllowed ? 'block' : 'none';\n",
              "\n",
              "      async function convertToInteractive(key) {\n",
              "        const element = document.querySelector('#df-e8142366-1168-45cf-ba6c-e6fad3727005');\n",
              "        const dataTable =\n",
              "          await google.colab.kernel.invokeFunction('convertToInteractive',\n",
              "                                                    [key], {});\n",
              "        if (!dataTable) return;\n",
              "\n",
              "        const docLinkHtml = 'Like what you see? Visit the ' +\n",
              "          '<a target=\"_blank\" href=https://colab.research.google.com/notebooks/data_table.ipynb>data table notebook</a>'\n",
              "          + ' to learn more about interactive tables.';\n",
              "        element.innerHTML = '';\n",
              "        dataTable['output_type'] = 'display_data';\n",
              "        await google.colab.output.renderOutput(dataTable, element);\n",
              "        const docLink = document.createElement('div');\n",
              "        docLink.innerHTML = docLinkHtml;\n",
              "        element.appendChild(docLink);\n",
              "      }\n",
              "    </script>\n",
              "  </div>\n",
              "\n",
              "\n",
              "<div id=\"df-6ef44240-4198-49b9-940e-70be6b91f7d7\">\n",
              "  <button class=\"colab-df-quickchart\" onclick=\"quickchart('df-6ef44240-4198-49b9-940e-70be6b91f7d7')\"\n",
              "            title=\"Suggest charts\"\n",
              "            style=\"display:none;\">\n",
              "\n",
              "<svg xmlns=\"http://www.w3.org/2000/svg\" height=\"24px\"viewBox=\"0 0 24 24\"\n",
              "     width=\"24px\">\n",
              "    <g>\n",
              "        <path d=\"M19 3H5c-1.1 0-2 .9-2 2v14c0 1.1.9 2 2 2h14c1.1 0 2-.9 2-2V5c0-1.1-.9-2-2-2zM9 17H7v-7h2v7zm4 0h-2V7h2v10zm4 0h-2v-4h2v4z\"/>\n",
              "    </g>\n",
              "</svg>\n",
              "  </button>\n",
              "\n",
              "<style>\n",
              "  .colab-df-quickchart {\n",
              "      --bg-color: #E8F0FE;\n",
              "      --fill-color: #1967D2;\n",
              "      --hover-bg-color: #E2EBFA;\n",
              "      --hover-fill-color: #174EA6;\n",
              "      --disabled-fill-color: #AAA;\n",
              "      --disabled-bg-color: #DDD;\n",
              "  }\n",
              "\n",
              "  [theme=dark] .colab-df-quickchart {\n",
              "      --bg-color: #3B4455;\n",
              "      --fill-color: #D2E3FC;\n",
              "      --hover-bg-color: #434B5C;\n",
              "      --hover-fill-color: #FFFFFF;\n",
              "      --disabled-bg-color: #3B4455;\n",
              "      --disabled-fill-color: #666;\n",
              "  }\n",
              "\n",
              "  .colab-df-quickchart {\n",
              "    background-color: var(--bg-color);\n",
              "    border: none;\n",
              "    border-radius: 50%;\n",
              "    cursor: pointer;\n",
              "    display: none;\n",
              "    fill: var(--fill-color);\n",
              "    height: 32px;\n",
              "    padding: 0;\n",
              "    width: 32px;\n",
              "  }\n",
              "\n",
              "  .colab-df-quickchart:hover {\n",
              "    background-color: var(--hover-bg-color);\n",
              "    box-shadow: 0 1px 2px rgba(60, 64, 67, 0.3), 0 1px 3px 1px rgba(60, 64, 67, 0.15);\n",
              "    fill: var(--button-hover-fill-color);\n",
              "  }\n",
              "\n",
              "  .colab-df-quickchart-complete:disabled,\n",
              "  .colab-df-quickchart-complete:disabled:hover {\n",
              "    background-color: var(--disabled-bg-color);\n",
              "    fill: var(--disabled-fill-color);\n",
              "    box-shadow: none;\n",
              "  }\n",
              "\n",
              "  .colab-df-spinner {\n",
              "    border: 2px solid var(--fill-color);\n",
              "    border-color: transparent;\n",
              "    border-bottom-color: var(--fill-color);\n",
              "    animation:\n",
              "      spin 1s steps(1) infinite;\n",
              "  }\n",
              "\n",
              "  @keyframes spin {\n",
              "    0% {\n",
              "      border-color: transparent;\n",
              "      border-bottom-color: var(--fill-color);\n",
              "      border-left-color: var(--fill-color);\n",
              "    }\n",
              "    20% {\n",
              "      border-color: transparent;\n",
              "      border-left-color: var(--fill-color);\n",
              "      border-top-color: var(--fill-color);\n",
              "    }\n",
              "    30% {\n",
              "      border-color: transparent;\n",
              "      border-left-color: var(--fill-color);\n",
              "      border-top-color: var(--fill-color);\n",
              "      border-right-color: var(--fill-color);\n",
              "    }\n",
              "    40% {\n",
              "      border-color: transparent;\n",
              "      border-right-color: var(--fill-color);\n",
              "      border-top-color: var(--fill-color);\n",
              "    }\n",
              "    60% {\n",
              "      border-color: transparent;\n",
              "      border-right-color: var(--fill-color);\n",
              "    }\n",
              "    80% {\n",
              "      border-color: transparent;\n",
              "      border-right-color: var(--fill-color);\n",
              "      border-bottom-color: var(--fill-color);\n",
              "    }\n",
              "    90% {\n",
              "      border-color: transparent;\n",
              "      border-bottom-color: var(--fill-color);\n",
              "    }\n",
              "  }\n",
              "</style>\n",
              "\n",
              "  <script>\n",
              "    async function quickchart(key) {\n",
              "      const quickchartButtonEl =\n",
              "        document.querySelector('#' + key + ' button');\n",
              "      quickchartButtonEl.disabled = true;  // To prevent multiple clicks.\n",
              "      quickchartButtonEl.classList.add('colab-df-spinner');\n",
              "      try {\n",
              "        const charts = await google.colab.kernel.invokeFunction(\n",
              "            'suggestCharts', [key], {});\n",
              "      } catch (error) {\n",
              "        console.error('Error during call to suggestCharts:', error);\n",
              "      }\n",
              "      quickchartButtonEl.classList.remove('colab-df-spinner');\n",
              "      quickchartButtonEl.classList.add('colab-df-quickchart-complete');\n",
              "    }\n",
              "    (() => {\n",
              "      let quickchartButtonEl =\n",
              "        document.querySelector('#df-6ef44240-4198-49b9-940e-70be6b91f7d7 button');\n",
              "      quickchartButtonEl.style.display =\n",
              "        google.colab.kernel.accessAllowed ? 'block' : 'none';\n",
              "    })();\n",
              "  </script>\n",
              "</div>\n",
              "\n",
              "  <div id=\"id_f71adcce-c946-456a-95d2-b46aaf07a0c2\">\n",
              "    <style>\n",
              "      .colab-df-generate {\n",
              "        background-color: #E8F0FE;\n",
              "        border: none;\n",
              "        border-radius: 50%;\n",
              "        cursor: pointer;\n",
              "        display: none;\n",
              "        fill: #1967D2;\n",
              "        height: 32px;\n",
              "        padding: 0 0 0 0;\n",
              "        width: 32px;\n",
              "      }\n",
              "\n",
              "      .colab-df-generate:hover {\n",
              "        background-color: #E2EBFA;\n",
              "        box-shadow: 0px 1px 2px rgba(60, 64, 67, 0.3), 0px 1px 3px 1px rgba(60, 64, 67, 0.15);\n",
              "        fill: #174EA6;\n",
              "      }\n",
              "\n",
              "      [theme=dark] .colab-df-generate {\n",
              "        background-color: #3B4455;\n",
              "        fill: #D2E3FC;\n",
              "      }\n",
              "\n",
              "      [theme=dark] .colab-df-generate:hover {\n",
              "        background-color: #434B5C;\n",
              "        box-shadow: 0px 1px 3px 1px rgba(0, 0, 0, 0.15);\n",
              "        filter: drop-shadow(0px 1px 2px rgba(0, 0, 0, 0.3));\n",
              "        fill: #FFFFFF;\n",
              "      }\n",
              "    </style>\n",
              "    <button class=\"colab-df-generate\" onclick=\"generateWithVariable('data')\"\n",
              "            title=\"Generate code using this dataframe.\"\n",
              "            style=\"display:none;\">\n",
              "\n",
              "  <svg xmlns=\"http://www.w3.org/2000/svg\" height=\"24px\"viewBox=\"0 0 24 24\"\n",
              "       width=\"24px\">\n",
              "    <path d=\"M7,19H8.4L18.45,9,17,7.55,7,17.6ZM5,21V16.75L18.45,3.32a2,2,0,0,1,2.83,0l1.4,1.43a1.91,1.91,0,0,1,.58,1.4,1.91,1.91,0,0,1-.58,1.4L9.25,21ZM18.45,9,17,7.55Zm-12,3A5.31,5.31,0,0,0,4.9,8.1,5.31,5.31,0,0,0,1,6.5,5.31,5.31,0,0,0,4.9,4.9,5.31,5.31,0,0,0,6.5,1,5.31,5.31,0,0,0,8.1,4.9,5.31,5.31,0,0,0,12,6.5,5.46,5.46,0,0,0,6.5,12Z\"/>\n",
              "  </svg>\n",
              "    </button>\n",
              "    <script>\n",
              "      (() => {\n",
              "      const buttonEl =\n",
              "        document.querySelector('#id_f71adcce-c946-456a-95d2-b46aaf07a0c2 button.colab-df-generate');\n",
              "      buttonEl.style.display =\n",
              "        google.colab.kernel.accessAllowed ? 'block' : 'none';\n",
              "\n",
              "      buttonEl.onclick = () => {\n",
              "        google.colab.notebook.generateWithVariable('data');\n",
              "      }\n",
              "      })();\n",
              "    </script>\n",
              "  </div>\n",
              "\n",
              "    </div>\n",
              "  </div>\n"
            ]
          },
          "metadata": {},
          "execution_count": 15
        }
      ]
    },
    {
      "cell_type": "code",
      "source": [
        "!pip install nltk"
      ],
      "metadata": {
        "colab": {
          "base_uri": "https://localhost:8080/"
        },
        "id": "yhtldC0JmZg3",
        "outputId": "0e200052-04ba-4924-d4d6-af6efb9f380f"
      },
      "execution_count": null,
      "outputs": [
        {
          "output_type": "stream",
          "name": "stdout",
          "text": [
            "Requirement already satisfied: nltk in /usr/local/lib/python3.10/dist-packages (3.8.1)\n",
            "Requirement already satisfied: click in /usr/local/lib/python3.10/dist-packages (from nltk) (8.1.7)\n",
            "Requirement already satisfied: joblib in /usr/local/lib/python3.10/dist-packages (from nltk) (1.3.2)\n",
            "Requirement already satisfied: regex>=2021.8.3 in /usr/local/lib/python3.10/dist-packages (from nltk) (2023.6.3)\n",
            "Requirement already satisfied: tqdm in /usr/local/lib/python3.10/dist-packages (from nltk) (4.66.1)\n"
          ]
        }
      ]
    },
    {
      "cell_type": "code",
      "source": [
        "import nltk # used for natural language usable by computer programme (nlp library).\n",
        "import re #Regular Expression, is a sequence of characters that forms a search pattern.\n",
        "nltk.download('stopwords')\n",
        "stemmer= nltk.SnowballStemmer(\"english\") # converts word to root form or base form\n",
        "from nltk.corpus import stopwords #laod stopwords\n",
        "import string #This function split the specified string into words using str.\n",
        "stopword = set(stopwords.words('english')) #does not allow repeatation"
      ],
      "metadata": {
        "colab": {
          "base_uri": "https://localhost:8080/"
        },
        "id": "lIFTFFX_j-kb",
        "outputId": "35aeabd2-e3ec-44bf-e64c-88cfaf397c3a"
      },
      "execution_count": null,
      "outputs": [
        {
          "output_type": "stream",
          "name": "stderr",
          "text": [
            "[nltk_data] Downloading package stopwords to /root/nltk_data...\n",
            "[nltk_data]   Package stopwords is already up-to-date!\n"
          ]
        }
      ]
    },
    {
      "cell_type": "code",
      "source": [
        "def clean(text):\n",
        "     text = str(text).lower()\n",
        "     text = re.sub('\\[.*?\\]','',text)\n",
        "     text = re.sub('https?://\\S+|www.\\.\\sS+','',text)\n",
        "     text = re.sub('<.*?>+','',text)\n",
        "     text = re.sub('\\n','',text)\n",
        "     text = re.sub('\\w*\\d\\w*','',text)\n",
        "\n",
        "     text = [word for word in text.split(' ') if word not in stopword]\n",
        "     text = \" \".join(text)\n",
        "data[\"Title\"] = data[\"Title\"].apply(clean)\n"
      ],
      "metadata": {
        "id": "khz2LwNqnMjy"
      },
      "execution_count": null,
      "outputs": []
    },
    {
      "cell_type": "code",
      "source": [
        "print(data.Title)"
      ],
      "metadata": {
        "colab": {
          "base_uri": "https://localhost:8080/"
        },
        "id": "Kfdr7NCphMGi",
        "outputId": "a604f57a-910e-430c-f975-75648b2b86be"
      },
      "execution_count": null,
      "outputs": [
        {
          "output_type": "stream",
          "name": "stdout",
          "text": [
            "0                            (Un)Well\n",
            "1                              #Alive\n",
            "2       #AnneFrank - Parallel Stories\n",
            "3                            #blackAF\n",
            "4                    #cats_the_mewvie\n",
            "                    ...              \n",
            "5962                        الف مبروك\n",
            "5963                     دفعة القاهرة\n",
            "5964                             海的儿子\n",
            "5965                          반드시 잡는다\n",
            "5966              최강전사 미니특공대 : 영웅의 탄생\n",
            "Name: Title, Length: 5967, dtype: object\n"
          ]
        }
      ]
    },
    {
      "cell_type": "code",
      "source": [
        "print(data.Genres)"
      ],
      "metadata": {
        "colab": {
          "base_uri": "https://localhost:8080/"
        },
        "id": "yVpfpy18hZbL",
        "outputId": "17a84fce-37bd-4a17-b2af-8b927b1aaa80"
      },
      "execution_count": null,
      "outputs": [
        {
          "output_type": "stream",
          "name": "stdout",
          "text": [
            "0                                           Reality TV\n",
            "1       Horror Movies, International Movies, Thrillers\n",
            "2                  Documentaries, International Movies\n",
            "3                                          TV Comedies\n",
            "4                  Documentaries, International Movies\n",
            "                             ...                      \n",
            "5962            Comedies, Dramas, International Movies\n",
            "5963                 International TV Shows, TV Dramas\n",
            "5964                 International TV Shows, TV Dramas\n",
            "5965           Dramas, International Movies, Thrillers\n",
            "5966                          Children & Family Movies\n",
            "Name: Genres, Length: 5967, dtype: object\n"
          ]
        }
      ]
    },
    {
      "cell_type": "code",
      "source": [
        "from sklearn.feature_extraction.text import TfidfVectorizer\n",
        "from sklearn.metrics.pairwise import cosine_similarity"
      ],
      "metadata": {
        "id": "Ra0NJ20VhmTa"
      },
      "execution_count": null,
      "outputs": []
    },
    {
      "cell_type": "code",
      "source": [
        "feature = data['Genres'].tolist()\n",
        "tfidf = TfidfVectorizer(stop_words=\"english\")\n",
        "tfidf_matrix = tfidf.fit_transform(feature)\n",
        "similarity = cosine_similarity(tfidf_matrix)\n",
        "indices = pd.Series(data.index,\n",
        "                    index=data['Title']).drop_duplicates()"
      ],
      "metadata": {
        "id": "BCw4Za1qiJGR"
      },
      "execution_count": null,
      "outputs": []
    },
    {
      "cell_type": "code",
      "source": [
        "def netFlix_recommendation (title):\n",
        "  try:\n",
        "    index = indices[title]\n",
        "    similarity_scores = list(enumerate(similarity[index]))\n",
        "    similarity_scores = sorted(similarity_scores,key= lambda x :x[1])\n",
        "    similarity_scores = similarity_scores[0:10]\n",
        "    movieindices = [i[0] for i in similarity_scores]\n",
        "    return data['Title'].iloc[movieindices]\n",
        "  except:\n",
        "    print(title,\"is not in Database\")\n"
      ],
      "metadata": {
        "id": "SIRrms8JjJfW"
      },
      "execution_count": null,
      "outputs": []
    },
    {
      "cell_type": "code",
      "source": [
        "netFlix_recommendation(\"Aaviri\")"
      ],
      "metadata": {
        "colab": {
          "base_uri": "https://localhost:8080/"
        },
        "id": "vVSDM5h9koQH",
        "outputId": "35478ee6-cca6-4da7-faa9-6547e0a85f67"
      },
      "execution_count": null,
      "outputs": [
        {
          "output_type": "execute_result",
          "data": {
            "text/plain": [
              "0                               (Un)Well\n",
              "3                               #blackAF\n",
              "7                           #realityhigh\n",
              "14                            100 Humans\n",
              "20                        13 Reasons Why\n",
              "21    13 Reasons Why: Beyond the Reasons\n",
              "22                                  13TH\n",
              "23                 14 Minutes from Earth\n",
              "36                                  2012\n",
              "37                              21 Again\n",
              "Name: Title, dtype: object"
            ]
          },
          "metadata": {},
          "execution_count": 68
        }
      ]
    },
    {
      "cell_type": "code",
      "source": [],
      "metadata": {
        "id": "-jFrkd50kpvk"
      },
      "execution_count": null,
      "outputs": []
    }
  ],
  "metadata": {
    "colab": {
      "provenance": [],
      "authorship_tag": "ABX9TyPbdKPt3Ep2P0gwZy/i97IG",
      "include_colab_link": true
    },
    "kernelspec": {
      "display_name": "Python 3",
      "name": "python3"
    },
    "language_info": {
      "name": "python"
    }
  },
  "nbformat": 4,
  "nbformat_minor": 0
}